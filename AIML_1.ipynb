{
  "nbformat": 4,
  "nbformat_minor": 0,
  "metadata": {
    "colab": {
      "provenance": [],
      "authorship_tag": "ABX9TyO54c41e0CCvsuJ8eGtU5+t"
    },
    "kernelspec": {
      "name": "python3",
      "display_name": "Python 3"
    },
    "language_info": {
      "name": "python"
    }
  },
  "cells": [
    {
      "cell_type": "code",
      "execution_count": 7,
      "metadata": {
        "colab": {
          "base_uri": "https://localhost:8080/"
        },
        "id": "jd0S1QBJJF0z",
        "outputId": "db78af2c-d05d-40f4-9982-903d93d56508"
      },
      "outputs": [
        {
          "output_type": "stream",
          "name": "stdout",
          "text": [
            "['India', 'China', 'Pakistan', 'Australia']\n",
            "['India', 'China', 'Pakistan', 'Australia', 'Indonesia', 'Malaysia']\n",
            "Pakistan\n",
            "['Australia', 'China', 'India', 'Indonesia', 'Malaysia', 'Pakistan']\n",
            "India is present\n"
          ]
        }
      ],
      "source": [
        "countries=[\"India\",\"China\",\"Pakistan\",\"Australia\"]\n",
        "print(countries)\n",
        "countries.append(\"Indonesia\")\n",
        "countries.append(\"Malaysia\")\n",
        "print(countries)\n",
        "\n",
        "print(countries[2])\n",
        "countries.sort()\n",
        "print(countries)\n",
        "\n",
        "if \"India\" in countries:\n",
        "    print(\"India is present\")\n",
        "else:\n",
        "    print(\"India is not present\")"
      ]
    },
    {
      "cell_type": "code",
      "source": [
        "product_prices = (100.00, 150.50, 200.00, 250.50, 300.00)\n",
        "\n",
        "print(f\"The maximum price of the product is {max(product_prices)}\")\n",
        "print(f\"The minimum price of the product is {min(product_prices)}\")\n",
        "print(\" \")\n",
        "\n",
        "print(f\"The total price of the product is {sum(product_prices)}\")\n",
        "print(\" \")\n",
        "\n",
        "print(f\"The average price of the product is {sum(product_prices)/len(product_prices)}\")\n",
        "print(\" \")\n",
        "\n",
        "product_items = list(product_prices)\n",
        "product_items.append(350.50)\n",
        "print(f\"The Product list: {product_items}\")"
      ],
      "metadata": {
        "colab": {
          "base_uri": "https://localhost:8080/"
        },
        "id": "VtcMk6RXJdPs",
        "outputId": "b8167277-09c7-4cdd-c359-fbb5210e62c9"
      },
      "execution_count": 19,
      "outputs": [
        {
          "output_type": "stream",
          "name": "stdout",
          "text": [
            "The maximum price of the product is 300.0\n",
            "The minimum price of the product is 100.0\n",
            " \n",
            "The total price of the product is 1001.0\n",
            " \n",
            "The average price of the product is 200.2\n",
            " \n",
            "The Product list: [100.0, 150.5, 200.0, 250.5, 300.0, 350.5]\n"
          ]
        }
      ]
    },
    {
      "cell_type": "code",
      "source": [
        "cities = {\n",
        "    \"Delhi\": 19000000,\n",
        "    \"Tokyo\": 14000000,\n",
        "    \"New York\": 8500000,\n",
        "    \"Mumbai\": 12500000,\n",
        "    \"Paris\": 2200000\n",
        "}\n",
        "cities[\"Beijing\"] = 21000000\n",
        "cities[\"Berlin\"] = 3700000\n",
        "highest_city = max(cities, key=cities.get)\n",
        "print(\"City with highest population:\", highest_city)\n",
        "\n",
        "if \"London\" in cities:\n",
        "    print(\"London is present in the dictionary.\")\n",
        "else:\n",
        "    print(\"London is NOT present in the dictionary.\")\n",
        "removed = cities.pop(\"Paris\")\n",
        "print(\"Removed Paris with population:\", removed)\n",
        "print(\"Final city population dictionary:\")\n",
        "print(cities)"
      ],
      "metadata": {
        "colab": {
          "base_uri": "https://localhost:8080/"
        },
        "id": "Xbb6Ad7PMBdh",
        "outputId": "d733cdcb-c634-48ba-cc45-e07f54a542d1"
      },
      "execution_count": 9,
      "outputs": [
        {
          "output_type": "stream",
          "name": "stdout",
          "text": [
            "City with highest population: Beijing\n",
            "London is NOT present in the dictionary.\n",
            "Removed Paris with population: 2200000\n",
            "Final city population dictionary:\n",
            "{'Delhi': 19000000, 'Tokyo': 14000000, 'New York': 8500000, 'Mumbai': 12500000, 'Beijing': 21000000, 'Berlin': 3700000}\n"
          ]
        }
      ]
    },
    {
      "cell_type": "code",
      "source": [
        "marks = {\n",
        "    \"Shalini\": 85,\n",
        "    \"Akshit\": 78,\n",
        "    \"Priyansu\": 92,\n",
        "    \"Sradha\": 88\n",
        "}\n",
        "marks[\"Ethan\"] = 95\n",
        "\n",
        "total = sum(marks.values())\n",
        "count = len(marks)\n",
        "avg = total / count\n",
        "print(\"Average marks:\", avg)\n",
        "\n",
        "topper = max(marks, key=marks.get)\n",
        "print(\"Topper is:\", topper)\n",
        "\n",
        "sortedmarks = dict(sorted(marks.items()))\n",
        "print(\"Sorted dictionary (by names):\")\n",
        "print(sortedmarks)"
      ],
      "metadata": {
        "colab": {
          "base_uri": "https://localhost:8080/"
        },
        "id": "UuWOV8VDJiET",
        "outputId": "57a3dc00-074e-4b0f-ad8d-9ef6b9cf30b1"
      },
      "execution_count": 10,
      "outputs": [
        {
          "output_type": "stream",
          "name": "stdout",
          "text": [
            "Average marks: 87.6\n",
            "Topper is: Ethan\n",
            "Sorted dictionary (by names):\n",
            "{'Akshit': 78, 'Ethan': 95, 'Priyansu': 92, 'Shalini': 85, 'Sradha': 88}\n"
          ]
        }
      ]
    },
    {
      "cell_type": "code",
      "source": [
        "s=[]\n",
        "s.append(10)\n",
        "s.append(20)\n",
        "s.append(30)\n",
        "s.append(40)\n",
        "s.append(50)\n",
        "print(s)\n",
        "\n",
        "s.pop()\n",
        "s.pop()\n",
        "print(s)\n",
        "\n",
        "if not s:\n",
        "    print(\"The s is empty.\")\n",
        "else:\n",
        "    print(\"The s is not empty.\")"
      ],
      "metadata": {
        "colab": {
          "base_uri": "https://localhost:8080/"
        },
        "id": "UsEaoOvmJ5HS",
        "outputId": "b4ae9761-233d-4a1f-d8c3-a9c5bdb938d1"
      },
      "execution_count": 11,
      "outputs": [
        {
          "output_type": "stream",
          "name": "stdout",
          "text": [
            "[10, 20, 30, 40, 50]\n",
            "[10, 20, 30]\n",
            "The s is not empty.\n"
          ]
        }
      ]
    },
    {
      "cell_type": "code",
      "source": [
        "q = []\n",
        "q.append(1)\n",
        "q.append(2)\n",
        "q.append(3)\n",
        "q.append(4)\n",
        "q.append(5)\n",
        "print(q)\n",
        "\n",
        "q.pop(0)\n",
        "q.pop(0)\n",
        "q.pop(0)\n",
        "print(q)\n",
        "if not q:\n",
        "    print(\"The q is empty.\")\n",
        "else:\n",
        "    print(\"The q is NOT empty.\")"
      ],
      "metadata": {
        "colab": {
          "base_uri": "https://localhost:8080/"
        },
        "id": "xcJPwIP4J9Vy",
        "outputId": "dc65f55f-cc42-4cea-d540-ecb94d880fbf"
      },
      "execution_count": 12,
      "outputs": [
        {
          "output_type": "stream",
          "name": "stdout",
          "text": [
            "[1, 2, 3, 4, 5]\n",
            "[4, 5]\n",
            "The q is NOT empty.\n"
          ]
        }
      ]
    },
    {
      "cell_type": "code",
      "source": [
        "q = []\n",
        "q.append(10)\n",
        "q.append(20)\n",
        "q.append(30)\n",
        "q.append(40)\n",
        "q.append(50)\n",
        "\n",
        "print(q)\n",
        "\n",
        "q.pop(0)\n",
        "q.pop(0)\n",
        "q.pop(0)\n",
        "\n",
        "print(q)\n",
        "if not q:\n",
        "    print(\"The q is empty.\")\n",
        "else:\n",
        "    print(\"The q is NOT empty.\")"
      ],
      "metadata": {
        "colab": {
          "base_uri": "https://localhost:8080/"
        },
        "id": "uwepubJIJ_EI",
        "outputId": "8ae8cae9-93a0-40bf-87b5-8dc5d5810756"
      },
      "execution_count": 13,
      "outputs": [
        {
          "output_type": "stream",
          "name": "stdout",
          "text": [
            "[10, 20, 30, 40, 50]\n",
            "[40, 50]\n",
            "The q is NOT empty.\n"
          ]
        }
      ]
    },
    {
      "cell_type": "code",
      "source": [
        "class Node:\n",
        "    def __init__(self, data):\n",
        "        self.data = data\n",
        "        self.next = None\n",
        "\n",
        "class LinkedList:\n",
        "    def __init__(self):\n",
        "        self.head = None\n",
        "\n",
        "    def insert_at_beginning(self, data):\n",
        "        new_node = Node(data)\n",
        "        new_node.next = self.head\n",
        "        self.head = new_node\n",
        "\n",
        "    def delete(self, key):\n",
        "        temp = self.head\n",
        "\n",
        "        if temp and temp.data == key:\n",
        "            self.head = temp.next\n",
        "            return\n",
        "\n",
        "        prev = None\n",
        "        while temp and temp.data != key:\n",
        "            prev = temp\n",
        "            temp = temp.next\n",
        "\n",
        "        if not temp:\n",
        "            print(f\"{key} not found in list.\")\n",
        "            return\n",
        "\n",
        "        prev.next = temp.next\n",
        "\n",
        "    def search(self, key):\n",
        "        temp = self.head\n",
        "        while temp:\n",
        "            if temp.data == key:\n",
        "                return True\n",
        "            temp = temp.next\n",
        "        return False\n",
        "\n",
        "    def print_reverse(self):\n",
        "        def _reverse(node):\n",
        "            if node:\n",
        "                _reverse(node.next)\n",
        "                print(node.data, end=' ')\n",
        "        _reverse(self.head)\n",
        "\n",
        "    def print_list(self):\n",
        "        temp = self.head\n",
        "        while temp:\n",
        "            print(temp.data, end=' -> ')\n",
        "            temp = temp.next\n",
        "        print(\"None\")\n",
        "\n",
        "ll = LinkedList()\n",
        "\n",
        "for val in [10, 20, 30, 40, 50]:\n",
        "    ll.insert_at_beginning(val)\n",
        "\n",
        "print(\"Linked List after insertion:\")\n",
        "ll.print_list()\n",
        "\n",
        "ll.delete(30)\n",
        "print(\"\\nAfter deleting 30:\")\n",
        "ll.print_list()\n",
        "\n",
        "key = 40\n",
        "found = ll.search(key)\n",
        "print(f\"\\nIs {key} in the list? {'Yes' if found else 'No'}\")\n",
        "\n",
        "print(\"\\nLinked List in reverse order:\")\n",
        "ll.print_reverse()"
      ],
      "metadata": {
        "colab": {
          "base_uri": "https://localhost:8080/"
        },
        "id": "5Ls5-1WuKApx",
        "outputId": "6564abe5-d3df-4a0a-da45-7ba002e5fa52"
      },
      "execution_count": 14,
      "outputs": [
        {
          "output_type": "stream",
          "name": "stdout",
          "text": [
            "Linked List after insertion:\n",
            "50 -> 40 -> 30 -> 20 -> 10 -> None\n",
            "\n",
            "After deleting 30:\n",
            "50 -> 40 -> 20 -> 10 -> None\n",
            "\n",
            "Is 40 in the list? Yes\n",
            "\n",
            "Linked List in reverse order:\n",
            "10 20 40 50 "
          ]
        }
      ]
    },
    {
      "cell_type": "code",
      "source": [
        "class Node:\n",
        "    def __init__(self, key):\n",
        "        self.left = None\n",
        "        self.right = None\n",
        "        self.data = key\n",
        "\n",
        "def insert(root, key):\n",
        "    if root is None:\n",
        "        return Node(key)\n",
        "    if key < root.data:\n",
        "        root.left = insert(root.left, key)\n",
        "    else:\n",
        "        root.right = insert(root.right, key)\n",
        "    return root\n",
        "\n",
        "def inorder(root):\n",
        "    if root:\n",
        "        inorder(root.left)\n",
        "        print(root.data, end=\" \")\n",
        "        inorder(root.right)\n",
        "\n",
        "def delete(root, key):\n",
        "    if root is None:\n",
        "        return root\n",
        "\n",
        "    if key < root.data:\n",
        "        root.left = delete(root.left, key)\n",
        "    elif key > root.data:\n",
        "        root.right = delete(root.right, key)\n",
        "    else:\n",
        "        if root.left is None:\n",
        "            return root.right\n",
        "        elif root.right is None:\n",
        "            return root.left\n",
        "\n",
        "        temp = minValueNode(root.right)\n",
        "        root.data = temp.data\n",
        "        root.right = delete(root.right, temp.data)\n",
        "    return root\n",
        "\n",
        "def minValueNode(node):\n",
        "    current = node\n",
        "    while current.left is not None:\n",
        "        current = current.left\n",
        "    return current\n",
        "\n",
        "def height(root):\n",
        "    if root is None:\n",
        "        return 0\n",
        "    return 1 + max(height(root.left), height(root.right))\n",
        "\n",
        "root = None\n",
        "elements = [50, 30, 70, 20, 40]\n",
        "for el in elements:\n",
        "    root = insert(root, el)\n",
        "\n",
        "print(\"In-order Traversal of the tree:\")\n",
        "inorder(root)\n",
        "\n",
        "key_to_delete = 30\n",
        "root = delete(root, key_to_delete)\n",
        "print(f\"\\n\\nAfter deleting {key_to_delete}:\")\n",
        "inorder(root)\n",
        "\n",
        "print(\"\\n\\nHeight of the tree:\", height(root))"
      ],
      "metadata": {
        "id": "TlFCfte6LkQL",
        "colab": {
          "base_uri": "https://localhost:8080/"
        },
        "outputId": "e60a0469-16ac-47f8-e470-cfa08e1ffb34"
      },
      "execution_count": 15,
      "outputs": [
        {
          "output_type": "stream",
          "name": "stdout",
          "text": [
            "In-order Traversal of the tree:\n",
            "20 30 40 50 70 \n",
            "\n",
            "After deleting 30:\n",
            "20 40 50 70 \n",
            "\n",
            "Height of the tree: 3\n"
          ]
        }
      ]
    }
  ]
}