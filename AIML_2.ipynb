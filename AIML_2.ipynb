{
  "nbformat": 4,
  "nbformat_minor": 0,
  "metadata": {
    "colab": {
      "provenance": [],
      "authorship_tag": "ABX9TyOqn1D4fSU9uoXF//hUtcCL"
    },
    "kernelspec": {
      "name": "python3",
      "display_name": "Python 3"
    },
    "language_info": {
      "name": "python"
    }
  },
  "cells": [
    {
      "cell_type": "code",
      "execution_count": 2,
      "metadata": {
        "colab": {
          "base_uri": "https://localhost:8080/"
        },
        "id": "pScM6YGHoGIK",
        "outputId": "3e5b5c13-35d8-4f3e-88e1-7f0a8bb1849b"
      },
      "outputs": [
        {
          "output_type": "stream",
          "name": "stdout",
          "text": [
            "        Name  Age\n",
            "0   Priyansu   23\n",
            "1       Puja   40\n",
            "2  Akhanshya   33\n"
          ]
        }
      ],
      "source": [
        "import pandas as pd\n",
        "data={'Name':['Priyansu','Puja','Akhanshya'],'Age':[23,40,33],}\n",
        "df=pd.DataFrame(data)\n",
        "print(df)"
      ]
    },
    {
      "cell_type": "code",
      "source": [
        "import pandas as pd\n",
        "data={'Name':['Priyansu','Puja','Akhanshya','Utkalika','Ankita'],\n",
        "      'Age':[23,40,29,27,38],\n",
        "      'City':['Rourkela','Bhubaneswar','Cuttack','Balasore','Jamshedpur']}\n",
        "df=pd.DataFrame(data)\n",
        "print(df)\n",
        "\n",
        "age_df=df[df['Age']>30]\n",
        "print(age_df)\n",
        "\n",
        "asc_df = df.sort_values(by='Age', ascending=True)\n",
        "print(asc_df)"
      ],
      "metadata": {
        "colab": {
          "base_uri": "https://localhost:8080/"
        },
        "id": "MILTmZZlp07A",
        "outputId": "bd4893fd-fe46-4147-f8cc-261f0460a08c"
      },
      "execution_count": 10,
      "outputs": [
        {
          "output_type": "stream",
          "name": "stdout",
          "text": [
            "        Name  Age         City\n",
            "0   Priyansu   23     Rourkela\n",
            "1       Puja   40  Bhubaneswar\n",
            "2  Akhanshya   29      Cuttack\n",
            "3   Utkalika   27     Balasore\n",
            "4     Ankita   38   Jamshedpur\n",
            "     Name  Age         City\n",
            "1    Puja   40  Bhubaneswar\n",
            "4  Ankita   38   Jamshedpur\n",
            "        Name  Age         City\n",
            "0   Priyansu   23     Rourkela\n",
            "3   Utkalika   27     Balasore\n",
            "2  Akhanshya   29      Cuttack\n",
            "4     Ankita   38   Jamshedpur\n",
            "1       Puja   40  Bhubaneswar\n"
          ]
        }
      ]
    },
    {
      "cell_type": "code",
      "source": [
        "import pandas as pd\n",
        "\n",
        "df1 = pd.DataFrame({\n",
        "    'ID': [1, 2, 3, 4],\n",
        "    'Name': ['Bubu', 'Babu', 'Mitthi', 'Linu']\n",
        "})\n",
        "\n",
        "df2 = pd.DataFrame({\n",
        "    'ID': [2, 4, 3, 5],\n",
        "    'City': ['Delhi', 'Mumbai', 'Kolkata', 'Chennai']\n",
        "})\n",
        "\n",
        "merged_df = pd.merge(df1, df2, on='ID')\n",
        "\n",
        "print(\"Merged DataFrame:\")\n",
        "print(merged_df)"
      ],
      "metadata": {
        "colab": {
          "base_uri": "https://localhost:8080/"
        },
        "id": "hYDdn6avtuui",
        "outputId": "4cbb2e23-4007-462f-f031-5473d8459a47"
      },
      "execution_count": 12,
      "outputs": [
        {
          "output_type": "stream",
          "name": "stdout",
          "text": [
            "Merged DataFrame:\n",
            "   ID    Name     City\n",
            "0   2    Babu    Delhi\n",
            "1   3  Mitthi  Kolkata\n",
            "2   4    Linu   Mumbai\n"
          ]
        }
      ]
    },
    {
      "cell_type": "code",
      "source": [
        "import pandas as pd\n",
        "data={'Name':['Priyansu','Puja','Utkalika','Ankita'],\n",
        "      'Age':[23,40,29,27],\n",
        "      'City':['Rourkela','Bhubaneswar','Balasore','Jamshedpur']}\n",
        "df=pd.DataFrame(data)\n",
        "print(df)\n",
        "\n",
        "df['Score'] = [85, 90, 88, 70]\n",
        "print(df)\n",
        "\n",
        "print(df.describe())\n",
        "\n",
        "print('Is data is Empty?',df.empty)"
      ],
      "metadata": {
        "colab": {
          "base_uri": "https://localhost:8080/"
        },
        "id": "s4wU1oV-uTfE",
        "outputId": "93ccec67-eaf9-4445-8679-6d1ed6f072cc"
      },
      "execution_count": 26,
      "outputs": [
        {
          "output_type": "stream",
          "name": "stdout",
          "text": [
            "       Name  Age         City\n",
            "0  Priyansu   23     Rourkela\n",
            "1      Puja   40  Bhubaneswar\n",
            "2  Utkalika   29     Balasore\n",
            "3    Ankita   27   Jamshedpur\n",
            "       Name  Age         City  Score\n",
            "0  Priyansu   23     Rourkela     85\n",
            "1      Puja   40  Bhubaneswar     90\n",
            "2  Utkalika   29     Balasore     88\n",
            "3    Ankita   27   Jamshedpur     70\n",
            "             Age      Score\n",
            "count   4.000000   4.000000\n",
            "mean   29.750000  83.250000\n",
            "std     7.274384   9.069179\n",
            "min    23.000000  70.000000\n",
            "25%    26.000000  81.250000\n",
            "50%    28.000000  86.500000\n",
            "75%    31.750000  88.500000\n",
            "max    40.000000  90.000000\n",
            "Is data is Empty? False\n"
          ]
        }
      ]
    },
    {
      "cell_type": "code",
      "source": [
        "import pandas as pd\n",
        "data={'Name':['Priyansu','Puja','Akhanshya','Utkalika','Ankita'],\n",
        "      'Age':[23,40,29,27,38],\n",
        "      'City':['Rourkela','Bhubaneswar','Cuttack','Balasore','Jamshedpur']}\n",
        "df=pd.DataFrame(data)\n",
        "print(df)\n",
        "\n",
        "df=df.drop('City', axis=1)\n",
        "print(df)"
      ],
      "metadata": {
        "colab": {
          "base_uri": "https://localhost:8080/"
        },
        "id": "AAcUpU0rx0Iw",
        "outputId": "41b5bad9-e433-4378-fcc1-e59abb2fe580"
      },
      "execution_count": 24,
      "outputs": [
        {
          "output_type": "stream",
          "name": "stdout",
          "text": [
            "        Name  Age         City\n",
            "0   Priyansu   23     Rourkela\n",
            "1       Puja   40  Bhubaneswar\n",
            "2  Akhanshya   29      Cuttack\n",
            "3   Utkalika   27     Balasore\n",
            "4     Ankita   38   Jamshedpur\n",
            "        Name  Age\n",
            "0   Priyansu   23\n",
            "1       Puja   40\n",
            "2  Akhanshya   29\n",
            "3   Utkalika   27\n",
            "4     Ankita   38\n"
          ]
        }
      ]
    },
    {
      "cell_type": "code",
      "metadata": {
        "colab": {
          "base_uri": "https://localhost:8080/"
        },
        "id": "f5ec5edd",
        "outputId": "a366fa7a-2aca-4bf5-a588-4f35a1405f8d"
      },
      "source": [
        "import pandas as pd\n",
        "import numpy as np\n",
        "\n",
        "data = {'Name': ['Priyansu', 'Puja', 'Akhanshya', 'Utkalika', 'Ankita'],\n",
        "        'Age': [23, 40, np.nan, 27, 38],\n",
        "        'City': ['Rourkela', 'Bhubaneswar', 'Cuttack', np.nan, 'Jamshedpur'],\n",
        "        'Score': [85, 90, 88, 70, np.nan]}\n",
        "df = pd.DataFrame(data)\n",
        "print(\"Original DataFrame:\")\n",
        "print(df)\n",
        "\n",
        "print(\"\\nMissing values per column:\")\n",
        "print(df.isnull().sum())\n",
        "\n",
        "# Handle missing values\n",
        "\n",
        "df_dropped = df.dropna()\n",
        "print(\"\\nDataFrame after dropping rows with missing values:\")\n",
        "print(df_dropped)\n",
        "\n",
        "df_filled_zero = df.fillna(0)\n",
        "print(\"\\nDataFrame after filling missing values with 0:\")\n",
        "print(df_filled_zero)"
      ],
      "execution_count": 27,
      "outputs": [
        {
          "output_type": "stream",
          "name": "stdout",
          "text": [
            "Original DataFrame:\n",
            "        Name   Age         City  Score\n",
            "0   Priyansu  23.0     Rourkela   85.0\n",
            "1       Puja  40.0  Bhubaneswar   90.0\n",
            "2  Akhanshya   NaN      Cuttack   88.0\n",
            "3   Utkalika  27.0          NaN   70.0\n",
            "4     Ankita  38.0   Jamshedpur    NaN\n",
            "\n",
            "Missing values per column:\n",
            "Name     0\n",
            "Age      1\n",
            "City     1\n",
            "Score    1\n",
            "dtype: int64\n",
            "\n",
            "DataFrame after dropping rows with missing values:\n",
            "       Name   Age         City  Score\n",
            "0  Priyansu  23.0     Rourkela   85.0\n",
            "1      Puja  40.0  Bhubaneswar   90.0\n",
            "\n",
            "DataFrame after filling missing values with 0:\n",
            "        Name   Age         City  Score\n",
            "0   Priyansu  23.0     Rourkela   85.0\n",
            "1       Puja  40.0  Bhubaneswar   90.0\n",
            "2  Akhanshya   0.0      Cuttack   88.0\n",
            "3   Utkalika  27.0            0   70.0\n",
            "4     Ankita  38.0   Jamshedpur    0.0\n"
          ]
        }
      ]
    }
  ]
}